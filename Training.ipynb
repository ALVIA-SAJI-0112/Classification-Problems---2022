{
 "cells": [
  {
   "cell_type": "code",
   "execution_count": 24,
   "id": "215f0230",
   "metadata": {},
   "outputs": [
    {
     "data": {
      "text/plain": [
       "array([[[  1,   1,   1, ...,   1,   1,   1],\n",
       "        [  1,   1,   1, ...,   0,   1,   3],\n",
       "        [  1,   1,   1, ...,   0,   1,   2],\n",
       "        ...,\n",
       "        [  4,   5,   7, ...,   7,   6,   4],\n",
       "        [  4,   6,   8, ...,   3,   6,   4],\n",
       "        [  3,   6,   6, ...,   5,   6,   3]],\n",
       "\n",
       "       [[ 74,  82, 206, ...,  48,  86,  69],\n",
       "        [ 75,  78, 194, ...,  47, 116, 107],\n",
       "        [ 78,  76, 189, ...,  52,  79,  63],\n",
       "        ...,\n",
       "        [132, 150, 156, ...,  57,  61,   5],\n",
       "        [146, 144, 149, ...,  59,  63,   8],\n",
       "        [153, 156, 150, ...,  61,  44,  37]],\n",
       "\n",
       "       [[121, 133, 119, ..., 104, 103, 104],\n",
       "        [127, 121, 141, ..., 110, 107,  95],\n",
       "        [112, 132, 120, ..., 104, 105, 102],\n",
       "        ...,\n",
       "        [109, 116, 121, ..., 140, 138, 135],\n",
       "        [115, 120, 125, ..., 145, 136, 147],\n",
       "        [118, 112, 121, ..., 126, 144, 142]],\n",
       "\n",
       "       ...,\n",
       "\n",
       "       [[209, 209, 209, ..., 204,  88,  76],\n",
       "        [209, 207, 206, ...,  85,  81,  76],\n",
       "        [211, 206, 203, ...,  89,  75,  78],\n",
       "        ...,\n",
       "        [160, 164, 164, ..., 133,  88,  88],\n",
       "        [165, 166, 168, ..., 157, 162, 103],\n",
       "        [168, 169, 162, ...,  90, 106,  90]],\n",
       "\n",
       "       [[ 56,  55,  56, ..., 205, 131,  84],\n",
       "        [ 60,  61,  57, ..., 206, 135,  86],\n",
       "        [ 60,  61,  61, ..., 206, 134,  88],\n",
       "        ...,\n",
       "        [120, 130, 132, ..., 183, 194, 117],\n",
       "        [142, 145, 104, ..., 183, 193, 114],\n",
       "        [141, 145, 145, ..., 181, 190, 112]],\n",
       "\n",
       "       [[ 81,  79,  68, ..., 162,   5,   5],\n",
       "        [ 74, 101,  72, ..., 154,   5,   7],\n",
       "        [ 80, 125,  74, ..., 144,  10,   4],\n",
       "        ...,\n",
       "        [ 32,  56,  19, ...,   2,   3,   4],\n",
       "        [ 47,  40,  14, ...,   2,   4,   3],\n",
       "        [ 61,  30,  22, ...,   3,   3,   4]]], dtype=uint8)"
      ]
     },
     "execution_count": 24,
     "metadata": {},
     "output_type": "execute_result"
    }
   ],
   "source": [
    "import pickle\n",
    "X = pickle.load(open('X.pkl', 'rb')) #rb-read in binary\n",
    "y = pickle.load(open('y.pkl', 'rb'))\n",
    "X"
   ]
  },
  {
   "cell_type": "code",
   "execution_count": 25,
   "id": "05aa314c",
   "metadata": {},
   "outputs": [
    {
     "data": {
      "text/plain": [
       "array([0, 0, 1, ..., 0, 0, 0])"
      ]
     },
     "execution_count": 25,
     "metadata": {},
     "output_type": "execute_result"
    }
   ],
   "source": [
    "y"
   ]
  },
  {
   "cell_type": "code",
   "execution_count": 26,
   "id": "0ffc38e2",
   "metadata": {},
   "outputs": [
    {
     "data": {
      "text/plain": [
       "array([[[0.00392157, 0.00392157, 0.00392157, ..., 0.00392157,\n",
       "         0.00392157, 0.00392157],\n",
       "        [0.00392157, 0.00392157, 0.00392157, ..., 0.        ,\n",
       "         0.00392157, 0.01176471],\n",
       "        [0.00392157, 0.00392157, 0.00392157, ..., 0.        ,\n",
       "         0.00392157, 0.00784314],\n",
       "        ...,\n",
       "        [0.01568627, 0.01960784, 0.02745098, ..., 0.02745098,\n",
       "         0.02352941, 0.01568627],\n",
       "        [0.01568627, 0.02352941, 0.03137255, ..., 0.01176471,\n",
       "         0.02352941, 0.01568627],\n",
       "        [0.01176471, 0.02352941, 0.02352941, ..., 0.01960784,\n",
       "         0.02352941, 0.01176471]],\n",
       "\n",
       "       [[0.29019608, 0.32156863, 0.80784314, ..., 0.18823529,\n",
       "         0.3372549 , 0.27058824],\n",
       "        [0.29411765, 0.30588235, 0.76078431, ..., 0.18431373,\n",
       "         0.45490196, 0.41960784],\n",
       "        [0.30588235, 0.29803922, 0.74117647, ..., 0.20392157,\n",
       "         0.30980392, 0.24705882],\n",
       "        ...,\n",
       "        [0.51764706, 0.58823529, 0.61176471, ..., 0.22352941,\n",
       "         0.23921569, 0.01960784],\n",
       "        [0.57254902, 0.56470588, 0.58431373, ..., 0.23137255,\n",
       "         0.24705882, 0.03137255],\n",
       "        [0.6       , 0.61176471, 0.58823529, ..., 0.23921569,\n",
       "         0.17254902, 0.14509804]],\n",
       "\n",
       "       [[0.4745098 , 0.52156863, 0.46666667, ..., 0.40784314,\n",
       "         0.40392157, 0.40784314],\n",
       "        [0.49803922, 0.4745098 , 0.55294118, ..., 0.43137255,\n",
       "         0.41960784, 0.37254902],\n",
       "        [0.43921569, 0.51764706, 0.47058824, ..., 0.40784314,\n",
       "         0.41176471, 0.4       ],\n",
       "        ...,\n",
       "        [0.42745098, 0.45490196, 0.4745098 , ..., 0.54901961,\n",
       "         0.54117647, 0.52941176],\n",
       "        [0.45098039, 0.47058824, 0.49019608, ..., 0.56862745,\n",
       "         0.53333333, 0.57647059],\n",
       "        [0.4627451 , 0.43921569, 0.4745098 , ..., 0.49411765,\n",
       "         0.56470588, 0.55686275]],\n",
       "\n",
       "       ...,\n",
       "\n",
       "       [[0.81960784, 0.81960784, 0.81960784, ..., 0.8       ,\n",
       "         0.34509804, 0.29803922],\n",
       "        [0.81960784, 0.81176471, 0.80784314, ..., 0.33333333,\n",
       "         0.31764706, 0.29803922],\n",
       "        [0.82745098, 0.80784314, 0.79607843, ..., 0.34901961,\n",
       "         0.29411765, 0.30588235],\n",
       "        ...,\n",
       "        [0.62745098, 0.64313725, 0.64313725, ..., 0.52156863,\n",
       "         0.34509804, 0.34509804],\n",
       "        [0.64705882, 0.65098039, 0.65882353, ..., 0.61568627,\n",
       "         0.63529412, 0.40392157],\n",
       "        [0.65882353, 0.6627451 , 0.63529412, ..., 0.35294118,\n",
       "         0.41568627, 0.35294118]],\n",
       "\n",
       "       [[0.21960784, 0.21568627, 0.21960784, ..., 0.80392157,\n",
       "         0.51372549, 0.32941176],\n",
       "        [0.23529412, 0.23921569, 0.22352941, ..., 0.80784314,\n",
       "         0.52941176, 0.3372549 ],\n",
       "        [0.23529412, 0.23921569, 0.23921569, ..., 0.80784314,\n",
       "         0.5254902 , 0.34509804],\n",
       "        ...,\n",
       "        [0.47058824, 0.50980392, 0.51764706, ..., 0.71764706,\n",
       "         0.76078431, 0.45882353],\n",
       "        [0.55686275, 0.56862745, 0.40784314, ..., 0.71764706,\n",
       "         0.75686275, 0.44705882],\n",
       "        [0.55294118, 0.56862745, 0.56862745, ..., 0.70980392,\n",
       "         0.74509804, 0.43921569]],\n",
       "\n",
       "       [[0.31764706, 0.30980392, 0.26666667, ..., 0.63529412,\n",
       "         0.01960784, 0.01960784],\n",
       "        [0.29019608, 0.39607843, 0.28235294, ..., 0.60392157,\n",
       "         0.01960784, 0.02745098],\n",
       "        [0.31372549, 0.49019608, 0.29019608, ..., 0.56470588,\n",
       "         0.03921569, 0.01568627],\n",
       "        ...,\n",
       "        [0.1254902 , 0.21960784, 0.0745098 , ..., 0.00784314,\n",
       "         0.01176471, 0.01568627],\n",
       "        [0.18431373, 0.15686275, 0.05490196, ..., 0.00784314,\n",
       "         0.01568627, 0.01176471],\n",
       "        [0.23921569, 0.11764706, 0.08627451, ..., 0.01176471,\n",
       "         0.01176471, 0.01568627]]])"
      ]
     },
     "execution_count": 26,
     "metadata": {},
     "output_type": "execute_result"
    }
   ],
   "source": [
    "#feature scaling cuz lesser the values faster will be the calculations\n",
    "#ie values in the array ie from 0 to 25 is converted to 0 to 1\n",
    "X=X/255\n",
    "X"
   ]
  },
  {
   "cell_type": "code",
   "execution_count": 27,
   "id": "fb630471",
   "metadata": {},
   "outputs": [],
   "source": [
    "X = X.reshape(-1, 60, 60, 1)\n",
    "\n",
    "\n",
    "\n",
    "from keras.models import Sequential\n",
    "#Conv2D-helps in creating convoluted imgs, maxpooling-to help over-fitting by providing \n",
    "#an abstracted form of the representation \n",
    "#then its flattened, ie 2D to 1D. \n",
    "#Dense-passed to hidden layers\n",
    "from keras.layers import Conv2D, MaxPooling2D, Dense, Flatten\n",
    "model = Sequential()\n",
    "#3,3-feature detector of size 3/3 matrix\n",
    "model.add(Conv2D(64, (3,3), activation = 'relu')) #64-filters/feature detectors/convolutional layers\n",
    "model.add(MaxPooling2D((2,2)))\n",
    "\n",
    "model.add(Conv2D(64, (3,3), activation = 'relu'))\n",
    "model.add(MaxPooling2D((2,2)))\n",
    "\n",
    "model.add(Flatten())\n",
    "\n",
    "model.add(Dense(128, input_shape = X.shape[1:], activation = 'relu'))#128-neurons#hidden layers\n",
    "\n",
    "model.add(Dense(2, activation = 'softmax'))#o/p layer #returns probability 0 to 1. \n",
    "#Higher probility indicates its a cat\n",
    "\n",
    "\n",
    "#adding loss functions and optimizers-determines weights to allot during back propagation\n",
    "model.compile(optimizer='adam',\n",
    "              loss='sparse_categorical_crossentropy',\n",
    "              metrics=['accuracy'])"
   ]
  },
  {
   "cell_type": "code",
   "execution_count": 28,
   "id": "5181e121",
   "metadata": {},
   "outputs": [
    {
     "name": "stdout",
     "output_type": "stream",
     "text": [
      "Epoch 1/5\n",
      "647/647 [==============================] - 55s 84ms/step - loss: 0.5949 - accuracy: 0.6770 - val_loss: 0.5192 - val_accuracy: 0.7509\n",
      "Epoch 2/5\n",
      "647/647 [==============================] - 54s 83ms/step - loss: 0.4995 - accuracy: 0.7551 - val_loss: 0.5102 - val_accuracy: 0.7587\n",
      "Epoch 3/5\n",
      "647/647 [==============================] - 54s 83ms/step - loss: 0.4465 - accuracy: 0.7900 - val_loss: 0.4670 - val_accuracy: 0.7783\n",
      "Epoch 4/5\n",
      "647/647 [==============================] - 52s 81ms/step - loss: 0.4004 - accuracy: 0.8141 - val_loss: 0.4412 - val_accuracy: 0.8030\n",
      "Epoch 5/5\n",
      "647/647 [==============================] - 53s 82ms/step - loss: 0.3357 - accuracy: 0.8511 - val_loss: 0.4407 - val_accuracy: 0.8070\n"
     ]
    },
    {
     "data": {
      "text/plain": [
       "<keras.callbacks.History at 0x2172f9e6250>"
      ]
     },
     "execution_count": 28,
     "metadata": {},
     "output_type": "execute_result"
    }
   ],
   "source": [
    "model.fit(X, y, epochs=5, validation_split=0.1)#10% of data is taken for validation"
   ]
  },
  {
   "cell_type": "code",
   "execution_count": 29,
   "id": "22aaa722",
   "metadata": {},
   "outputs": [
    {
     "data": {
      "text/plain": [
       "(23000, 60, 60, 1)"
      ]
     },
     "execution_count": 29,
     "metadata": {},
     "output_type": "execute_result"
    }
   ],
   "source": [
    "X.shape"
   ]
  },
  {
   "cell_type": "code",
   "execution_count": 30,
   "id": "48f80597",
   "metadata": {},
   "outputs": [],
   "source": [
    "import time"
   ]
  },
  {
   "cell_type": "code",
   "execution_count": 31,
   "id": "7d09edac",
   "metadata": {},
   "outputs": [
    {
     "data": {
      "text/plain": [
       "1656505167.2458384"
      ]
     },
     "execution_count": 31,
     "metadata": {},
     "output_type": "execute_result"
    }
   ],
   "source": [
    "time.time()"
   ]
  },
  {
   "cell_type": "code",
   "execution_count": 32,
   "id": "aa2db162",
   "metadata": {},
   "outputs": [
    {
     "data": {
      "text/plain": [
       "float"
      ]
     },
     "execution_count": 32,
     "metadata": {},
     "output_type": "execute_result"
    }
   ],
   "source": [
    "type(1581428129.5990093)"
   ]
  },
  {
   "cell_type": "code",
   "execution_count": null,
   "id": "1924a700",
   "metadata": {},
   "outputs": [],
   "source": []
  },
  {
   "cell_type": "code",
   "execution_count": null,
   "id": "45d925a7",
   "metadata": {},
   "outputs": [],
   "source": []
  }
 ],
 "metadata": {
  "kernelspec": {
   "display_name": "Python 3 (ipykernel)",
   "language": "python",
   "name": "python3"
  },
  "language_info": {
   "codemirror_mode": {
    "name": "ipython",
    "version": 3
   },
   "file_extension": ".py",
   "mimetype": "text/x-python",
   "name": "python",
   "nbconvert_exporter": "python",
   "pygments_lexer": "ipython3",
   "version": "3.9.12"
  }
 },
 "nbformat": 4,
 "nbformat_minor": 5
}
