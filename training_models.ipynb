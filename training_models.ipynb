{
 "cells": [
  {
   "cell_type": "code",
   "execution_count": 4,
   "id": "5860af4e",
   "metadata": {
    "scrolled": true
   },
   "outputs": [
    {
     "name": "stdout",
     "output_type": "stream",
     "text": [
      "===================================================================================================================================\n",
      "===================================================================================================================================\n",
      "=========================================== RUNNING MODEL =========================================================================\n",
      "==================================================3-denselayer-3-convlayer-64-neuron-1656505448======================================================================\n",
      "===================================================================================================================================\n",
      "===================================================================================================================================\n",
      "Epoch 1/8\n",
      "647/647 [==============================] - 57s 86ms/step - loss: 0.6851 - accuracy: 0.5514 - val_loss: 0.6854 - val_accuracy: 0.5500\n",
      "Epoch 2/8\n",
      "647/647 [==============================] - 55s 85ms/step - loss: 0.6021 - accuracy: 0.6698 - val_loss: 0.5371 - val_accuracy: 0.7248\n",
      "Epoch 3/8\n",
      "647/647 [==============================] - 58s 90ms/step - loss: 0.5073 - accuracy: 0.7485 - val_loss: 0.4852 - val_accuracy: 0.7752\n",
      "Epoch 4/8\n",
      "647/647 [==============================] - 55s 85ms/step - loss: 0.4497 - accuracy: 0.7887 - val_loss: 0.4636 - val_accuracy: 0.7761\n",
      "Epoch 5/8\n",
      "647/647 [==============================] - 56s 87ms/step - loss: 0.4006 - accuracy: 0.8165 - val_loss: 0.4328 - val_accuracy: 0.7948\n",
      "Epoch 6/8\n",
      "647/647 [==============================] - 57s 87ms/step - loss: 0.3712 - accuracy: 0.8325 - val_loss: 0.4775 - val_accuracy: 0.7770\n",
      "Epoch 7/8\n",
      "647/647 [==============================] - 54s 83ms/step - loss: 0.3404 - accuracy: 0.8466 - val_loss: 0.4019 - val_accuracy: 0.8191\n",
      "Epoch 8/8\n",
      "647/647 [==============================] - 54s 84ms/step - loss: 0.3093 - accuracy: 0.8612 - val_loss: 0.4235 - val_accuracy: 0.8130\n"
     ]
    },
    {
     "name": "stderr",
     "output_type": "stream",
     "text": [
      "WARNING:absl:Found untraced functions such as _jit_compiled_convolution_op, _jit_compiled_convolution_op, _jit_compiled_convolution_op while saving (showing 3 of 3). These functions will not be directly callable after loading.\n"
     ]
    },
    {
     "name": "stdout",
     "output_type": "stream",
     "text": [
      "INFO:tensorflow:Assets written to: 3x3x64-catvsdog.model\\assets\n"
     ]
    },
    {
     "name": "stderr",
     "output_type": "stream",
     "text": [
      "INFO:tensorflow:Assets written to: 3x3x64-catvsdog.model\\assets\n"
     ]
    }
   ],
   "source": [
    "import pickle\n",
    "\n",
    "X = pickle.load(open('X.pkl', 'rb'))\n",
    "y = pickle.load(open('y.pkl', 'rb'))\n",
    "\n",
    "X = X/255\n",
    "\n",
    "X = X.reshape(-1, 60, 60, 1)\n",
    "\n",
    "from keras.models import Sequential\n",
    "from keras.layers import Conv2D, MaxPooling2D, Dense, Flatten\n",
    "\n",
    "from keras.callbacks import TensorBoard\n",
    "import time\n",
    "\n",
    "dense_layers = [3]\n",
    "conv_layers = [3]\n",
    "neurons = [64]\n",
    "\n",
    "\n",
    "for dense_layer in dense_layers:\n",
    "    for conv_layer in conv_layers:\n",
    "        for neuron in neurons:\n",
    "\n",
    "            NAME = '{}-denselayer-{}-convlayer-{}-neuron-{}'.format(dense_layer, conv_layer, neuron, int(time.time()))\n",
    "            tensorboard = TensorBoard(log_dir = 'logs2\\\\{}'.format(NAME))\n",
    "\n",
    "\n",
    "            model = Sequential()\n",
    "\n",
    "            for l in range(conv_layer):\n",
    "                model.add(Conv2D(neuron, (3,3), activation = 'relu'))\n",
    "                model.add(MaxPooling2D((2,2)))\n",
    "\n",
    "            model.add(Flatten())\n",
    "\n",
    "            model.add(Dense(neuron, input_shape = X.shape[1:], activation = 'relu'))\n",
    "\n",
    "            for l in range(dense_layer - 1):\n",
    "                model.add(Dense(neuron, activation = 'relu'))\n",
    "\n",
    "            model.add(Dense(2, activation = 'softmax'))\n",
    "\n",
    "            model.compile(optimizer='adam',\n",
    "                          loss='sparse_categorical_crossentropy',\n",
    "                          metrics=['accuracy'])\n",
    "\n",
    "            print('===================================================================================================================================')\n",
    "            print('===================================================================================================================================')\n",
    "            print('=========================================== RUNNING MODEL =========================================================================')\n",
    "            print('=================================================='+ NAME + '======================================================================')\n",
    "            print('===================================================================================================================================')\n",
    "            print('===================================================================================================================================')\n",
    "\n",
    "            model.fit(X, y, epochs=8, batch_size = 32, validation_split=0.1, callbacks = [tensorboard])\n",
    "\n",
    "            model.save('3x3x64-catvsdog.model')"
   ]
  },
  {
   "cell_type": "code",
   "execution_count": null,
   "id": "d5ef3323",
   "metadata": {},
   "outputs": [],
   "source": []
  }
 ],
 "metadata": {
  "kernelspec": {
   "display_name": "Python 3 (ipykernel)",
   "language": "python",
   "name": "python3"
  },
  "language_info": {
   "codemirror_mode": {
    "name": "ipython",
    "version": 3
   },
   "file_extension": ".py",
   "mimetype": "text/x-python",
   "name": "python",
   "nbconvert_exporter": "python",
   "pygments_lexer": "ipython3",
   "version": "3.9.12"
  }
 },
 "nbformat": 4,
 "nbformat_minor": 5
}
